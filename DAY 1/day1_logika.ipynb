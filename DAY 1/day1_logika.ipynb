{
 "cells": [
  {
   "attachments": {},
   "cell_type": "markdown",
   "metadata": {},
   "source": [
    "# Logika"
   ]
  },
  {
   "attachments": {},
   "cell_type": "markdown",
   "metadata": {},
   "source": [
    "`Logika` w Pythonie pomaga nam podejmować decyzje na podstawie pewnych `warunków`. Możemy myśleć o tym jak o pytaniach, które zadajemy komputerowi i które pomagają mu podjąć odpowiednie działania.\n",
    "\n",
    "W Pythonie używamy dwóch podstawowych rodzajów pytań logicznych: \"Czy to `prawda`?\" i \"Czy to `fałsz`?\". Aby odpowiedzieć na te pytania, używamy tzw. `wyrażeń logicznych`, które pomagają nam określić, czy pewne warunki są spełnione czy nie."
   ]
  },
  {
   "attachments": {},
   "cell_type": "markdown",
   "metadata": {},
   "source": [
    "Oto kilka podstawowych wyrażeń logicznych:\n",
    "- Równość (`==`): To sprawdzenie, czy dwie wartości są sobie równe. Na przykład, możemy zapytać: \"Czy 5 jest równe 5?\" Odpowiedź to prawda, ponieważ obie wartości są takie same.\n",
    "- Nierówność (`!=`): To sprawdzenie, czy dwie wartości są różne od siebie. Na przykład, możemy zapytać: \"Czy 3 jest różne od 7?\" Odpowiedź to prawda, ponieważ te dwie liczby są różne.\n",
    "- Większość (`>`), Mniejszość (`<`), Większość lub równość (`>=`), Mniejszość lub równość (`<=`): To sprawdzenie, które porównuje dwie wartości pod względem ich wielkości. Na przykład, możemy zapytać: \"Czy 10 jest większe niż 7?\" Odpowiedź to prawda, ponieważ 10 jest większe od 7."
   ]
  },
  {
   "attachments": {},
   "cell_type": "markdown",
   "metadata": {},
   "source": [
    "Kiedy mamy już takie wyrażenia logiczne, możemy używać instrukcji warunkowych, aby podjąć odpowiednie działania. Instrukcje warunkowe pozwalają komputerowi wykonywać różne czynności w zależności od spełnienia określonych warunków.\n",
    "\n",
    "Najczęstszą instrukcją warunkową w Pythonie jest \"`if`\". Oto jak ona działa: jeśli pewien warunek `jest spełniony` (czyli jest `prawdziwy`), to wykonaj pewne czynności. Jeśli warunek `nie jest spełniony` (czyli jest `fałszywy`), to te czynności są pomijane."
   ]
  },
  {
   "cell_type": "code",
   "execution_count": 1,
   "metadata": {},
   "outputs": [
    {
     "name": "stdout",
     "output_type": "stream",
     "text": [
      "Jesteś niepełnoletni!\n"
     ]
    }
   ],
   "source": [
    "#Przykład instrukcji warunkowej w Pythonie:\n",
    "wiek = 12\n",
    "\n",
    "if wiek >= 18:\n",
    "    print(\"Jesteś pełnoletni!\")\n",
    "else:\n",
    "    print(\"Jesteś niepełnoletni!\")"
   ]
  },
  {
   "attachments": {},
   "cell_type": "markdown",
   "metadata": {},
   "source": [
    "W tym przykładzie, jeśli `wiek wynosi 12`, warunek `wiek >= 18` jest `fałszywy`, więc zostanie wykonane drugie polecenie `print(\"Jesteś niepełnoletni!\")`.\n",
    "\n",
    "Logika w Pythonie pozwala nam kontrolować, jak nasz program działa w zależności od różnych warunków. Możemy sprawdzać, czy coś jest prawdziwe czy fałszywe i podejmować odpowiednie decyzje w naszym kodzie. To tak, jakbyśmy zadawali pytania komputerowi, a on potrafiłby odpowiedzieć na nie w sposób logiczny!"
   ]
  },
  {
   "attachments": {},
   "cell_type": "markdown",
   "metadata": {},
   "source": [
    "# Pętle"
   ]
  },
  {
   "attachments": {},
   "cell_type": "markdown",
   "metadata": {},
   "source": [
    "W Pythonie mamy kilka rodzajów `pętli`, które pozwalają nam wykonywać określony blok kodu `wielokrotnie`. Pętle są przydatne, gdy chcemy powtarzać pewne czynności przez określoną liczbę razy lub dopóki pewien warunek jest spełniony. Oto kilka podstawowych rodzajów pętli w `Pythonie`:"
   ]
  },
  {
   "attachments": {},
   "cell_type": "markdown",
   "metadata": {},
   "source": [
    "## Pętla `while`:"
   ]
  },
  {
   "attachments": {},
   "cell_type": "markdown",
   "metadata": {},
   "source": [
    "Pętla `while` wykonuje określony blok kodu tak długo, jak długo pewien `warunek jest prawdziwy`. Kiedy warunek przestaje być spełniony, wykonywanie pętli się zatrzymuje. Oto prosty przykład:"
   ]
  },
  {
   "cell_type": "code",
   "execution_count": 2,
   "metadata": {},
   "outputs": [
    {
     "name": "stdout",
     "output_type": "stream",
     "text": [
      "0\n",
      "1\n",
      "2\n",
      "3\n",
      "4\n"
     ]
    }
   ],
   "source": [
    "liczba = 0\n",
    "\n",
    "while liczba < 5:\n",
    "    print(liczba)\n",
    "    liczba += 1"
   ]
  },
  {
   "attachments": {},
   "cell_type": "markdown",
   "metadata": {},
   "source": [
    "W tym przykładzie, blok kodu wewnątrz pętli `while` zostanie wykonany pięć razy, ponieważ warunek liczba < 5 jest prawdziwy dla wartości od 0 do 4. Kiedy liczba osiągnie wartość 5, warunek przestanie być spełniony i pętla się zakończy."
   ]
  },
  {
   "attachments": {},
   "cell_type": "markdown",
   "metadata": {},
   "source": [
    "## Pętla `for`:"
   ]
  },
  {
   "attachments": {},
   "cell_type": "markdown",
   "metadata": {},
   "source": [
    "Pętla `for` jest używana do `iteracji` po `sekwencjach` (takich jak `listy`, `ciągi znaków` itp.) lub innych obiektach iterowalnych. Przebiega po każdym elemencie w sekwencji i wykonuje określony blok kodu. Oto przykład:"
   ]
  },
  {
   "cell_type": "code",
   "execution_count": 3,
   "metadata": {},
   "outputs": [
    {
     "name": "stdout",
     "output_type": "stream",
     "text": [
      "Anna\n",
      "Jan\n",
      "Kasia\n"
     ]
    }
   ],
   "source": [
    "imiona = [\"Anna\", \"Jan\", \"Kasia\"]\n",
    "\n",
    "for imie in imiona:\n",
    "    print(imie)"
   ]
  },
  {
   "attachments": {},
   "cell_type": "markdown",
   "metadata": {},
   "source": [
    "W tym przykładzie, blok kodu wewnątrz pętli `for` zostanie wykonany dla każdego elementu w `liście imiona`. Wyświetli on kolejno imiona \"Anna\", \"Jan\" i \"Kasia\"."
   ]
  },
  {
   "attachments": {},
   "cell_type": "markdown",
   "metadata": {},
   "source": [
    "## Pętla `for` z funkcją `range()`:"
   ]
  },
  {
   "attachments": {},
   "cell_type": "markdown",
   "metadata": {},
   "source": [
    "Funkcja `range()` jest często używana w połączeniu z pętlą `for`, aby generować sekwencje liczb. Możemy podać `początek`, `koniec` i `krok`, aby określić zakres generowanych liczb. Oto przykład:"
   ]
  },
  {
   "cell_type": "code",
   "execution_count": 4,
   "metadata": {},
   "outputs": [
    {
     "name": "stdout",
     "output_type": "stream",
     "text": [
      "1\n",
      "2\n",
      "3\n",
      "4\n",
      "5\n"
     ]
    }
   ],
   "source": [
    "for liczba in range(1, 6):\n",
    "    print(liczba)"
   ]
  },
  {
   "attachments": {},
   "cell_type": "markdown",
   "metadata": {},
   "source": [
    "W tym przykładzie, `range(1, 6)` generuje sekwencję liczb od 1 do 5 (6 jest wykluczone). Pętla `for` wykonuje blok kodu dla każdej liczby w tej sekwencji, wyświetlając je na ekranie."
   ]
  },
  {
   "attachments": {},
   "cell_type": "markdown",
   "metadata": {},
   "source": [
    "# to wszystko z części teoretycznej, teraz czas na zadania!"
   ]
  }
 ],
 "metadata": {
  "kernelspec": {
   "display_name": "Python 3",
   "language": "python",
   "name": "python3"
  },
  "language_info": {
   "codemirror_mode": {
    "name": "ipython",
    "version": 3
   },
   "file_extension": ".py",
   "mimetype": "text/x-python",
   "name": "python",
   "nbconvert_exporter": "python",
   "pygments_lexer": "ipython3",
   "version": "3.10.11"
  },
  "orig_nbformat": 4
 },
 "nbformat": 4,
 "nbformat_minor": 2
}
