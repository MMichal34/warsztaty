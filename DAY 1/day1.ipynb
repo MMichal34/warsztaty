{
 "cells": [
  {
   "attachments": {},
   "cell_type": "markdown",
   "metadata": {},
   "source": [
    "# Wstęp do jupytera"
   ]
  },
  {
   "attachments": {},
   "cell_type": "markdown",
   "metadata": {},
   "source": [
    "## Jak działa Jupyter Notebook??"
   ]
  },
  {
   "attachments": {},
   "cell_type": "markdown",
   "metadata": {},
   "source": [
    "`Jupyter Notebook` to specjalny program komputerowy, który pomaga nam pisać i wykonywać `kod`. Działa w przeglądarce internetowej, co oznacza, że możemy z niego korzystać na naszym komputerze, używając przeglądarki internetowej takiej jak Google Chrome lub Mozilla Firefox.\n",
    "\n",
    "Jupyter Notebook pozwala nam na pisanie kodu w małych kawałkach zwanych `komórkami`. To jak robienie notatek, ale zamiast słów, używamy kodu komputerowego. Możemy pisać kod w językach programowania takich jak `Python`, `Julia` czy `R`.\n",
    "\n",
    "Kiedy napiszemy kod w komórce, możemy go uruchomić, klikając przycisk `Run` lub używając skrótu klawiaturowego. Kiedy kod zostanie uruchomiony, Jupyter Notebook pokaże nam `wynik tego kodu poniżej komórki`. To oznacza, że możemy zobaczyć, co nasz kod robi!\n",
    "\n",
    "Ale Jupyter Notebook to nie tylko miejsce, gdzie piszemy kod. Możemy także tworzyć ładne notatki, dodając do naszego kodu `tekst`, `obrazy` czy `wykresy`. Możemy także dzielić się naszymi notatkami z innymi, aby mogli je zobaczyć i uruchomić na swoich komputerach."
   ]
  },
  {
   "attachments": {},
   "cell_type": "markdown",
   "metadata": {},
   "source": [
    "## Więcej tekstu dla zainteresowanych"
   ]
  },
  {
   "attachments": {},
   "cell_type": "markdown",
   "metadata": {},
   "source": [
    "Notatnik IPython, obecnie znany jako Jupyter Notebook, to interaktywne środowisko obliczeniowe, które umożliwia użytkownikom tworzenie i udostępnianie dokumentów zawierających aktywny kod, równania, wizualizacje i tekst narracyjny. Łączy wykonywanie kodu, tekst sformatowany, równania matematyczne i multimedia w jednym interfejsie przypominającym dokument.\n",
    "\n",
    "Podstawowym celem IPython Notebook jest zapewnienie elastycznej i interaktywnej platformy do analizy danych, obliczeń naukowych i programowania eksploracyjnego. Umożliwia użytkownikom pisanie, wykonywanie i wizualizację kodu w małych, łatwych do zarządzania komórkach. Każda komórka może zawierać kod (domyślnie Python, ale obsługuje również inne języki programowania), tekst objaśniający, równania matematyczne lub wyjścia wizualne, takie jak wykresy i wykresy.\n",
    "\n",
    "Kluczowe funkcje i zalety notebooków IPython obejmują:\n",
    "- `Wykonywanie interaktywne`: Notatnik umożliwia wykonywanie kodu komórka po komórce, co promuje interaktywny i eksploracyjny przepływ pracy. Użytkownicy mogą modyfikować i ponownie uruchamiać określone komórki, aby eksperymentować i iteracyjnie udoskonalać swój kod.\n",
    "- `Obsługa multimediów`: poza kodem notebooki obsługują formatowanie tekstu sformatowanego przy użyciu składni Markdown. Pozwala to użytkownikom na bezproblemowe włączanie wyjaśnień narracyjnych, instrukcji, obrazów, filmów i równań matematycznych do notebooka.\n",
    "- `Wizualizacja`: notebooki mogą wyświetlać graficzne wyniki, takie jak wykresy, wykresy i obrazy, bezpośrednio w dokumencie. Ta funkcja ułatwia analizę danych, wizualizację danych i możliwość prezentacji wyników w atrakcyjny wizualnie sposób.\n",
    "- `Dokumentacja kodu`: Notatniki zapewniają naturalny sposób dokumentowania kodu i analiz. Użytkownicy mogą dodawać komórki tekstowe, aby wyjaśnić logikę, metodologię i wyniki swojego kodu, ułatwiając zrozumienie i udostępnianie go innym.\n",
    "- `Powtarzalność i współpraca`: Notebooki IPython promują powtarzalne badania poprzez przechowywanie kodu, danych wyjściowych i wyjaśnień w jednym dokumencie. Dzięki temu inni mogą odtworzyć analizę lub współpracować nad notatnikiem, udostępniając plik współpracownikom lub publikując go publicznie.\n",
    "- `Rozszerzenia notebooka`: Jupyter Notebook ma żywy ekosystem rozszerzeń, które zwiększają jego funkcjonalność. Rozszerzenia te zapewniają dodatkowe funkcje, takie jak strzępienie kodu, fragmenty kodu, spis treści i inne, dzięki czemu notebooki są jeszcze bardziej wszechstronne.\n",
    "\n",
    "Ogólnie rzecz biorąc, IPython Notebooks oferuje przyjazne dla użytkownika i elastyczne środowisko do interaktywnego kodowania, analizy danych i dokumentacji. Stały się popularne wśród badaczy, analityków danych, nauczycieli i profesjonalistów, którzy chcą połączyć kod, wizualizacje i wyjaśnienia w jednym interaktywnym dokumencie."
   ]
  },
  {
   "attachments": {},
   "cell_type": "markdown",
   "metadata": {},
   "source": [
    "## Przypisywanie i wyświetlanie zmiennych"
   ]
  },
  {
   "attachments": {},
   "cell_type": "markdown",
   "metadata": {},
   "source": [
    "Aby przypisać zmienne należy podać `nazwę zmiennej`, następnie `\"=\"`, a na końcu `wartość` jaką chcemy przypisać naszej zmiennej. aby wyświetlić zmienne, musimy albo umieścić je na końcu komórki, albo w środku metody `print()`"
   ]
  },
  {
   "cell_type": "code",
   "execution_count": 4,
   "metadata": {},
   "outputs": [
    {
     "data": {
      "text/plain": [
       "1"
      ]
     },
     "execution_count": 4,
     "metadata": {},
     "output_type": "execute_result"
    }
   ],
   "source": [
    "a = 1\n",
    "a"
   ]
  },
  {
   "cell_type": "code",
   "execution_count": 7,
   "metadata": {},
   "outputs": [
    {
     "name": "stdout",
     "output_type": "stream",
     "text": [
      "5\n"
     ]
    }
   ],
   "source": [
    "print(a)"
   ]
  },
  {
   "cell_type": "code",
   "execution_count": 8,
   "metadata": {},
   "outputs": [
    {
     "data": {
      "text/plain": [
       "5"
      ]
     },
     "execution_count": 8,
     "metadata": {},
     "output_type": "execute_result"
    }
   ],
   "source": [
    "a = 5\n",
    "a"
   ]
  }
 ],
 "metadata": {
  "kernelspec": {
   "display_name": "Python 3",
   "language": "python",
   "name": "python3"
  },
  "language_info": {
   "codemirror_mode": {
    "name": "ipython",
    "version": 3
   },
   "file_extension": ".py",
   "mimetype": "text/x-python",
   "name": "python",
   "nbconvert_exporter": "python",
   "pygments_lexer": "ipython3",
   "version": "3.11.4"
  },
  "orig_nbformat": 4
 },
 "nbformat": 4,
 "nbformat_minor": 2
}
