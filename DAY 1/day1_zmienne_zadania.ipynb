{
 "cells": [
  {
   "attachments": {},
   "cell_type": "markdown",
   "metadata": {},
   "source": [
    "`Zadanie1`: suma, różnica, iloczyn i iloraz\n",
    "- Napisz program, który przyjmuje od użytkownika dwie liczby całkowite i oblicza ich sumę, różnicę, iloczyn i iloraz. Wyświetl wyniki na ekranie."
   ]
  },
  {
   "cell_type": "code",
   "execution_count": 17,
   "metadata": {},
   "outputs": [
    {
     "name": "stdout",
     "output_type": "stream",
     "text": [
      "suma:  8\n",
      "roznica:  2\n",
      "iloczyn:  15\n",
      "iloraz:  1.6666666666666667\n"
     ]
    }
   ],
   "source": [
    "liczba1 = int(input())\n",
    "liczba2 = int(input())\n",
    "\n",
    "suma = liczba1 + liczba2\n",
    "roznica = liczba1 - liczba2\n",
    "iloczyn = liczba1 * liczba2\n",
    "iloraz = liczba1 / liczba2\n",
    "\n",
    "print(\"suma: \", suma)\n",
    "print(\"roznica: \", roznica)\n",
    "print(\"iloczyn: \", iloczyn)\n",
    "print(\"iloraz: \", iloraz)"
   ]
  },
  {
   "attachments": {},
   "cell_type": "markdown",
   "metadata": {},
   "source": [
    "`Zadanie2`: imie z listy\n",
    "- Napisz program, który tworzy listę zawierającą 5 imion. Następnie sprawdź, czy podane przez użytkownika imię znajduje się na liście. Wyświetl odpowiedni komunikat na ekranie."
   ]
  },
  {
   "cell_type": "code",
   "execution_count": 22,
   "metadata": {},
   "outputs": [
    {
     "name": "stdout",
     "output_type": "stream",
     "text": [
      "imie jest w środku twojej listy\n"
     ]
    }
   ],
   "source": [
    "lista_imion = [\"Zosia\", \"Roksana\", \"Kasia\", \"Amelka\", \"Lena\"]\n",
    "imie = input()\n",
    "\n",
    "if imie in lista_imion:\n",
    "    print(\"imie jest w środku twojej listy\")\n",
    "else:\n",
    "    print(\"twojego imienia nie ma w środku listy\")"
   ]
  },
  {
   "attachments": {},
   "cell_type": "markdown",
   "metadata": {},
   "source": [
    "`Zadanie3`: sklep\n",
    "- Napisz program, który tworzy słownik zawierający pary klucz-wartość, gdzie kluczem jest nazwa produktu, a wartością jest jego cena. Poproś użytkownika o podanie nazwy produktu, a następnie wyświetl odpowiednią cenę na ekranie."
   ]
  },
  {
   "cell_type": "code",
   "execution_count": null,
   "metadata": {},
   "outputs": [],
   "source": []
  },
  {
   "attachments": {},
   "cell_type": "markdown",
   "metadata": {},
   "source": [
    "`Zadanie4`: odległości\n",
    "- Napisz program, który przyjmuje od użytkownika dwa liczbowe punkty na płaszczyźnie, reprezentowane jako tuple (x, y). Oblicz odległość między tymi punktami przy użyciu wzoru na odległość euklidesową d. Wyświetl wynik na ekranie."
   ]
  },
  {
   "attachments": {},
   "cell_type": "markdown",
   "metadata": {},
   "source": [
    "$$d = \\sqrt{(x_1 - x_2)^2 + (y_1 - y_2)^2}$$"
   ]
  },
  {
   "cell_type": "code",
   "execution_count": 28,
   "metadata": {},
   "outputs": [],
   "source": [
    "import matplotlib.pyplot as plt\n",
    "def visualization(tuple1, tuple2, distance):\n",
    "    plt.style.use(\"dark_background\")\n",
    "    plt.scatter([tuple1[0], tuple2[0]], [tuple1[1], tuple2[1]])\n",
    "    plt.ylim(bottom = 0)\n",
    "    plt.xlim(left = 0)\n",
    "    plt.show()"
   ]
  },
  {
   "cell_type": "code",
   "execution_count": null,
   "metadata": {},
   "outputs": [],
   "source": [
    "## tutaj napisz swój kod\n"
   ]
  },
  {
   "cell_type": "code",
   "execution_count": 29,
   "metadata": {},
   "outputs": [
    {
     "data": {
      "image/png": "[encoded data removed]",
      "text/plain": [
       "<Figure size 640x480 with 1 Axes>"
      ]
     },
     "metadata": {},
     "output_type": "display_data"
    }
   ],
   "source": [
    "visualization((1, 1), (3, 4), 0)"
   ]
  },
  {
   "attachments": {},
   "cell_type": "markdown",
   "metadata": {},
   "source": [
    "`Zadanie5`: odwracanie napisu\n",
    "- Napisz program, który przyjmie od użytkownika tekst, odwróci kolejność wszystkich literek i wypisze wynik."
   ]
  },
  {
   "cell_type": "code",
   "execution_count": 45,
   "metadata": {},
   "outputs": [
    {
     "data": {
      "text/plain": [
       "'anwózciweikyzcńatiloponytnatsnok'"
      ]
     },
     "execution_count": 45,
     "metadata": {},
     "output_type": "execute_result"
    }
   ],
   "source": [
    "napis = 'konstantynopolitańczykiewiczówna'\n",
    "nowy_napis = []\n",
    "for litera in napis:\n",
    "    nowy_napis.insert(0, litera)\n",
    "napis = \"\".join(nowy_napis)\n",
    "napis"
   ]
  },
  {
   "cell_type": "code",
   "execution_count": 54,
   "metadata": {},
   "outputs": [
    {
     "name": "stdout",
     "output_type": "stream",
     "text": [
      "anwózciweikyzcńatiloponytnatsnok\n"
     ]
    }
   ],
   "source": [
    "napis = 'konstantynopolitańczykiewiczówna'\n",
    "nowy_napis = napis[::-1]\n",
    "print(nowy_napis)"
   ]
  },
  {
   "attachments": {},
   "cell_type": "markdown",
   "metadata": {},
   "source": [
    "`Zadanie6`: analiza tekstu"
   ]
  },
  {
   "cell_type": "code",
   "execution_count": null,
   "metadata": {},
   "outputs": [],
   "source": [
    "tekst_przykladowy = \"To jest przykładowy tekst do analizy.\"\n",
    "\n",
    "# TODO: Oblicz liczbę słów w tekście\n",
    "\n",
    "# TODO: Oblicz liczbę znaków (bez spacji) w tekście\n",
    "\n",
    "# TODO: Oblicz średnią długość słowa w tekście\n",
    "\n",
    "# TODO: Znajdź słowo o największej długości w tekście\n",
    "\n",
    "# TODO: Utwórz słownik z wynikami\n",
    "wyniki = dict()"
   ]
  },
  {
   "attachments": {},
   "cell_type": "markdown",
   "metadata": {},
   "source": [
    "`Zadanie7`: raport ocenek"
   ]
  },
  {
   "cell_type": "code",
   "execution_count": 27,
   "metadata": {},
   "outputs": [
    {
     "name": "stdout",
     "output_type": "stream",
     "text": [
      "44\n",
      "8\n"
     ]
    },
    {
     "data": {
      "image/png": "[encoded data removed]",
      "text/plain": [
       "<Figure size 640x480 with 1 Axes>"
      ]
     },
     "metadata": {},
     "output_type": "display_data"
    }
   ],
   "source": [
    "import matplotlib.pyplot as plt\n",
    "\n",
    "lista_ocen = [5, 4, 3, 5, 4, 2, 3, 4, 5, 5, 4]\n",
    "\n",
    "# TODO: Oblicz średnią ocenę\n",
    "suma = 0\n",
    "for ocena in lista_ocen:\n",
    "    suma += ocena\n",
    "print(suma)\n",
    "srednia_ocen = suma / 11\n",
    "\n",
    "# TODO: Zlicz ile ocen jest większych lub równych 4\n",
    "ile_wiekszych_rownych_4 = 0\n",
    "for ocena in lista_ocen:\n",
    "    if ocena >= 4:\n",
    "        ile_wiekszych_rownych_4 += 1\n",
    "print(ile_wiekszych_rownych_4)\n",
    "\n",
    "# TODO: Znajdź wszystkie unikalne oceny\n",
    "unikalne_oceny = set(lista_ocen)\n",
    "lista_unikalnych_ocen = list(unikalne_oceny)\n",
    "\n",
    "# TODO: Znajdź ile razy pojawiła się każda ocena\n",
    "ilosci_ocen = []\n",
    "for ocena in lista_unikalnych_ocen:\n",
    "    ilosci_ocen.append(lista_ocen.count(ocena))\n",
    "\n",
    "\n",
    "# Wygeneruj wykres słupkowy\n",
    "plt.bar(list(unikalne_oceny), ilosci_ocen)\n",
    "plt.xlabel(\"Ocena\")\n",
    "plt.ylabel(\"Ilość wystąpień\")\n",
    "plt.title(\"Analiza ocen\")\n",
    "plt.show()\n",
    "\n",
    "# TODO: Utwórz słownik z wynikami\n",
    "wyniki = dict()"
   ]
  }
 ],
 "metadata": {
  "kernelspec": {
   "display_name": "Python 3",
   "language": "python",
   "name": "python3"
  },
  "language_info": {
   "codemirror_mode": {
    "name": "ipython",
    "version": 3
   },
   "file_extension": ".py",
   "mimetype": "text/x-python",
   "name": "python",
   "nbconvert_exporter": "python",
   "pygments_lexer": "ipython3",
   "version": "3.11.4"
  },
  "orig_nbformat": 4
 },
 "nbformat": 4,
 "nbformat_minor": 2
}
