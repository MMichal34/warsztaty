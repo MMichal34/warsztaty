{
 "cells": [
  {
   "attachments": {},
   "cell_type": "markdown",
   "metadata": {},
   "source": [
    "# Wczoraj napisaliśmy kilka programów, dzisiaj przepiszemy je wszystkie używając funkcji"
   ]
  },
  {
   "attachments": {},
   "cell_type": "markdown",
   "metadata": {},
   "source": [
    "`Zadanie1`: Liczby parzyste\n",
    "- Napisz program, który przyjmuje od użytkownika `liczbę całkowitą` i sprawdza, czy jest ona `parzysta`. Program powinien wyświetlić odpowiedni komunikat dla każdego przypadku."
   ]
  },
  {
   "cell_type": "code",
   "execution_count": null,
   "metadata": {},
   "outputs": [],
   "source": []
  },
  {
   "attachments": {},
   "cell_type": "markdown",
   "metadata": {},
   "source": [
    "`Zadanie2`: Liczby pierwsze\n",
    "- Napisz program, który przyjmuje od użytkownika `liczbę całkowitą` i sprawdza, czy jest ona `liczbą pierwszą`. Program powinien wyświetlić odpowiedni komunikat dla każdego przypadku."
   ]
  },
  {
   "cell_type": "code",
   "execution_count": null,
   "metadata": {},
   "outputs": [],
   "source": []
  },
  {
   "attachments": {},
   "cell_type": "markdown",
   "metadata": {},
   "source": [
    "`Zadanie2*`: Liczby pierwsze*\n",
    "- Napisz program, który przyjmuje od użytkownika `liczbę całkowitą` i wypisze ile jest `liczb pierwszych` od 0 do podanej liczby."
   ]
  },
  {
   "cell_type": "code",
   "execution_count": null,
   "metadata": {},
   "outputs": [],
   "source": []
  },
  {
   "attachments": {},
   "cell_type": "markdown",
   "metadata": {},
   "source": [
    "`Zadanie3`: Obliczanie średniej\n",
    "- Poproś użytkownika o podanie `kilku liczb całkowitych`. Następnie oblicz `średnią wartość` tych liczb i wyświetl ją na ekranie."
   ]
  },
  {
   "cell_type": "code",
   "execution_count": null,
   "metadata": {},
   "outputs": [],
   "source": []
  },
  {
   "attachments": {},
   "cell_type": "markdown",
   "metadata": {},
   "source": [
    "`Zadanie4`: Pobieranie imion\n",
    "- Poproś użytkownika o podanie imion kilku osób. Zapisz te imiona w `liście`. Następnie wykorzystaj `pętlę`, aby wyświetlić każde z imion w osobnym wierszu."
   ]
  },
  {
   "cell_type": "code",
   "execution_count": null,
   "metadata": {},
   "outputs": [],
   "source": []
  },
  {
   "attachments": {},
   "cell_type": "markdown",
   "metadata": {},
   "source": [
    "`Zadanie5`: Gra w zgadywanie liczby\n",
    "- Napisz program, który losuje liczbę całkowitą z zakresu od 1 do 10. Poproś użytkownika o zgadnięcie tej liczby. Program powinien wyświetlić komunikat \"Zgadłeś!\" lub \"Nie zgadłeś!\" w zależności od odpowiedzi użytkownika. Możesz użyć pętli `while`, aby umożliwić użytkownikowi wielokrotne próby zgadnięcia."
   ]
  },
  {
   "cell_type": "code",
   "execution_count": null,
   "metadata": {},
   "outputs": [],
   "source": []
  },
  {
   "attachments": {},
   "cell_type": "markdown",
   "metadata": {},
   "source": [
    "`Zadanie6`: Liczenie liter\n",
    "- Poproś użytkownika o wpisanie dowolnego `zdania`. Następnie wyświetl ile liter znajduje się w tym zdaniu."
   ]
  },
  {
   "cell_type": "code",
   "execution_count": null,
   "metadata": {},
   "outputs": [],
   "source": []
  },
  {
   "attachments": {},
   "cell_type": "markdown",
   "metadata": {},
   "source": [
    "`Zadanie7`: Liczenie liter\n",
    "- Poproś użytkownika o wpisanie dowolnego zdania. Następnie oblicz liczbę wystąpień każdej litery w tym zdaniu i wyświetl wynik na ekranie."
   ]
  },
  {
   "cell_type": "code",
   "execution_count": null,
   "metadata": {},
   "outputs": [],
   "source": []
  },
  {
   "attachments": {},
   "cell_type": "markdown",
   "metadata": {},
   "source": [
    "`Zadanie8`: Odwrócenie tekstu\n",
    "- Poproś użytkownika o wpisanie dowolnego tekstu. Następnie odwróć ten tekst (od prawej do lewej) i wyświetl wynik."
   ]
  },
  {
   "cell_type": "code",
   "execution_count": null,
   "metadata": {},
   "outputs": [],
   "source": []
  },
  {
   "attachments": {},
   "cell_type": "markdown",
   "metadata": {},
   "source": [
    "`Advent of Code`:\n",
    "Elfy na zmianę zapisują liczbę kalorii zawartych w różnych posiłkach, przekąskach, racjach żywnościowych itp., które ze sobą przyniosły, po jednej pozycji w rzędzie. Każdy elf oddziela swój własny ekwipunek od ekwipunku poprzedniego elfa (jeśli istnieje) pustą linią.\n",
    "Załóżmy na przykład, że elfy kończą zapisywanie kalorii swoich produktów i kończą z następującą listą:\n",
    "\n",
    "1000\n",
    "2000\n",
    "3000\n",
    "\n",
    "4000\n",
    "\n",
    "5000\n",
    "6000\n",
    "\n",
    "7000\n",
    "8000\n",
    "9000\n",
    "\n",
    "10000\n",
    "\n",
    "Ta lista przedstawia kalorie jedzenia niesionego przez pięć elfów:\n",
    "\n",
    "- Pierwszy elf niesie jedzenie zawierające 1000, 2000 i 3000 kalorii, czyli łącznie 6000 kalorii.\n",
    "- Drugi Elf niesie jeden produkt spożywczy z 4000 kalorii.\n",
    "- Trzeci Elf niesie jedzenie z 5000 i 6000 kalorii, w sumie 11000 kalorii.\n",
    "- Czwarty elf niesie jedzenie zawierające 7000, 8000 i 9000 kalorii, w sumie 24000 kalorii.\n",
    "- Piąty elf niesie ze sobą jeden produkt spożywczy zawierający 10000 kalorii.\n",
    "\n",
    "W przypadku, gdy elfy zgłodnieją i będą potrzebować dodatkowych przekąsek, muszą wiedzieć, którego elfa zapytać: chcą wiedzieć, ile kalorii niesie elf niosący najwięcej kalorii. W powyższym przykładzie jest to 24000 (noszony przez czwartego Elfa).\n",
    "\n",
    "Znajdź Elfa niosącego najwięcej kalorii. Ile łącznie kalorii ma ten elf?"
   ]
  },
  {
   "cell_type": "code",
   "execution_count": 1,
   "metadata": {},
   "outputs": [
    {
     "name": "stdout",
     "output_type": "stream",
     "text": [
      "1000\n",
      "2000\n",
      "3000\n",
      "\n",
      "4000\n",
      "\n",
      "5000\n",
      "6000\n",
      "\n",
      "7000\n",
      "8000\n",
      "9000\n",
      "\n",
      "10000\n"
     ]
    }
   ],
   "source": [
    "input = \"\"\"1000\n",
    "2000\n",
    "3000\n",
    "\n",
    "4000\n",
    "\n",
    "5000\n",
    "6000\n",
    "\n",
    "7000\n",
    "8000\n",
    "9000\n",
    "\n",
    "10000\"\"\"\n",
    "\n",
    "print(input)"
   ]
  },
  {
   "attachments": {},
   "cell_type": "markdown",
   "metadata": {},
   "source": [
    "`Gra1`: Zgadywanie liczby\n",
    "\n",
    "- Zasady gry:\n",
    "    - Komputer losuje liczbę całkowitą z zakresu od 1 do 100.\n",
    "    - Gracz ma za zadanie zgadnąć wylosowaną liczbę, podając swoje propozycje.\n",
    "    - Komputer informuje gracza, czy podana liczba jest za mała, za duża lub równa wylosowanej liczbie.\n",
    "    - Gra kończy się, gdy gracz zgadnie liczbę. Komputer podaje również liczbę prób, jakie były potrzebne do zgadnięcia."
   ]
  },
  {
   "cell_type": "code",
   "execution_count": null,
   "metadata": {},
   "outputs": [],
   "source": []
  },
  {
   "attachments": {},
   "cell_type": "markdown",
   "metadata": {},
   "source": [
    "`Gra2`: Wisielec\n",
    "- Zasady gry:\n",
    "    - Komputer wybiera losowe słowo z dostępnej listy.\n",
    "    - Gracz ma za zadanie odgadnąć to słowo, podając pojedyncze litery.\n",
    "    - Gracz ma ograniczoną liczbę prób. Za każdym razem, gdy poda niewłaściwą literę, liczba prób zostanie zmniejszona.\n",
    "    - Komputer rysuje wisielca stopniowo wraz z każdą niewłaściwą literą podaną przez gracza.\n",
    "    - Gra kończy się, gdy gracz odgadnie słowo lub skończą mu się próby."
   ]
  },
  {
   "cell_type": "code",
   "execution_count": null,
   "metadata": {},
   "outputs": [],
   "source": []
  },
  {
   "attachments": {},
   "cell_type": "markdown",
   "metadata": {},
   "source": [
    "`Gra3`: Wordle\n",
    "- Zasady gry:\n",
    "    - Komputer losuje ukryte słowo z dostępnej listy.\n",
    "    - Gracz ma za zadanie odgadnąć ukryte słowo, podając swoje propozycje.\n",
    "    - Komputer informuje gracza o trafionych literach na odpowiednich pozycjach (kolor czerwony) oraz literach, które są w słowie, ale na nieodpowiednich pozycjach (kolor biały).\n",
    "    - Gracz ma 6 prób na odgadnięcie słowa.\n",
    "    - Gra kończy się, gdy gracz odgadnie słowo lub skończą mu się próby."
   ]
  },
  {
   "cell_type": "code",
   "execution_count": null,
   "metadata": {},
   "outputs": [],
   "source": []
  },
  {
   "attachments": {},
   "cell_type": "markdown",
   "metadata": {},
   "source": [
    "`Gra4`: Kółko Krzyżyk"
   ]
  },
  {
   "cell_type": "code",
   "execution_count": null,
   "metadata": {},
   "outputs": [],
   "source": []
  }
 ],
 "metadata": {
  "kernelspec": {
   "display_name": "Python 3",
   "language": "python",
   "name": "python3"
  },
  "language_info": {
   "codemirror_mode": {
    "name": "ipython",
    "version": 3
   },
   "file_extension": ".py",
   "mimetype": "text/x-python",
   "name": "python",
   "nbconvert_exporter": "python",
   "pygments_lexer": "ipython3",
   "version": "3.11.4"
  },
  "orig_nbformat": 4
 },
 "nbformat": 4,
 "nbformat_minor": 2
}
