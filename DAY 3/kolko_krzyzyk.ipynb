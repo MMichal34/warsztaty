{
 "cells": [
  {
   "cell_type": "code",
   "execution_count": 31,
   "metadata": {},
   "outputs": [],
   "source": [
    "class kolko_krzyzyk:\n",
    "    def __init__(self):\n",
    "        self.gracz = 'x'\n",
    "        self.plansza = [[' ', ' ', ' '],\n",
    "                        [' ', ' ', ' '],\n",
    "                        [' ', ' ', ' ']]\n",
    "    \n",
    "    def ruch(self, miejsce):\n",
    "        ile_w_dol, ile_w_prawo = miejsce\n",
    "        self.plansza[ile_w_dol][ile_w_prawo] = self.gracz\n",
    "        self.gracz = 'x' if self.gracz == 'o' else 'o'\n",
    "    \n",
    "    def pokaz_plansze(self):\n",
    "        for wiersz in self.plansza:\n",
    "            print(wiersz)"
   ]
  },
  {
   "cell_type": "code",
   "execution_count": 32,
   "metadata": {},
   "outputs": [
    {
     "name": "stdout",
     "output_type": "stream",
     "text": [
      "[' ', ' ', ' ']\n",
      "[' ', ' ', ' ']\n",
      "[' ', ' ', ' ']\n",
      "\n",
      "['x', ' ', ' ']\n",
      "[' ', ' ', 'x']\n",
      "[' ', ' ', 'o']\n"
     ]
    }
   ],
   "source": [
    "giera = kolko_krzyzyk()\n",
    "giera.pokaz_plansze()\n",
    "giera.ruch((1, 2))\n",
    "giera.ruch((2, 2))\n",
    "giera.ruch((0, 0))\n",
    "print()\n",
    "giera.pokaz_plansze()"
   ]
  },
  {
   "cell_type": "code",
   "execution_count": null,
   "metadata": {},
   "outputs": [],
   "source": [
    "napis = 'siema'\n",
    "palindromy, nie_palindromy = 0, 0\n",
    "if napis == napis[::-1]:\n",
    "    palindromy += 1\n",
    "else:\n",
    "    nie_palindromy += 1"
   ]
  },
  {
   "cell_type": "code",
   "execution_count": null,
   "metadata": {},
   "outputs": [],
   "source": []
  }
 ],
 "metadata": {
  "kernelspec": {
   "display_name": "Python 3",
   "language": "python",
   "name": "python3"
  },
  "language_info": {
   "codemirror_mode": {
    "name": "ipython",
    "version": 3
   },
   "file_extension": ".py",
   "mimetype": "text/x-python",
   "name": "python",
   "nbconvert_exporter": "python",
   "pygments_lexer": "ipython3",
   "version": "3.11.4"
  },
  "orig_nbformat": 4
 },
 "nbformat": 4,
 "nbformat_minor": 2
}
