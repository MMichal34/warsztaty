{
 "cells": [
  {
   "attachments": {},
   "cell_type": "markdown",
   "metadata": {},
   "source": [
    "`Zadanie1`: Liczby parzyste\n",
    "- Napisz program, który przyjmuje od użytkownika `liczbę całkowitą` i sprawdza, czy jest ona `parzysta`. Program powinien wyświetlić odpowiedni komunikat dla każdego przypadku."
   ]
  },
  {
   "cell_type": "code",
   "execution_count": null,
   "metadata": {},
   "outputs": [],
   "source": []
  },
  {
   "attachments": {},
   "cell_type": "markdown",
   "metadata": {},
   "source": [
    "`Zadanie2`: Liczby pierwsze\n",
    "- Napisz program, który przyjmuje od użytkownika `liczbę całkowitą` i sprawdza, czy jest ona `liczbą pierwszą`. Program powinien wyświetlić odpowiedni komunikat dla każdego przypadku."
   ]
  },
  {
   "cell_type": "code",
   "execution_count": null,
   "metadata": {},
   "outputs": [],
   "source": []
  },
  {
   "attachments": {},
   "cell_type": "markdown",
   "metadata": {},
   "source": [
    "`Zadanie2*`: Liczby pierwsze*\n",
    "- Napisz program, który przyjmuje od użytkownika `liczbę całkowitą` i wypisze ile jest `liczb pierwszych` od 0 do podanej liczby."
   ]
  },
  {
   "cell_type": "code",
   "execution_count": null,
   "metadata": {},
   "outputs": [],
   "source": []
  },
  {
   "attachments": {},
   "cell_type": "markdown",
   "metadata": {},
   "source": [
    "`Zadanie3`: Obliczanie średniej\n",
    "- Poproś użytkownika o podanie `kilku liczb całkowitych`. Następnie oblicz `średnią wartość` tych liczb i wyświetl ją na ekranie."
   ]
  },
  {
   "cell_type": "code",
   "execution_count": null,
   "metadata": {},
   "outputs": [],
   "source": []
  },
  {
   "attachments": {},
   "cell_type": "markdown",
   "metadata": {},
   "source": [
    "`Zadanie4`: Pobieranie imion\n",
    "- Poproś użytkownika o podanie imion kilku osób. Zapisz te imiona w `liście`. Następnie wykorzystaj `pętlę`, aby wyświetlić każde z imion w osobnym wierszu."
   ]
  },
  {
   "cell_type": "code",
   "execution_count": null,
   "metadata": {},
   "outputs": [],
   "source": []
  },
  {
   "attachments": {},
   "cell_type": "markdown",
   "metadata": {},
   "source": [
    "`Zadanie5`: Gra w zgadywanie liczby\n",
    "- Napisz program, który losuje liczbę całkowitą z zakresu od 1 do 10. Poproś użytkownika o zgadnięcie tej liczby. Program powinien wyświetlić komunikat \"Zgadłeś!\" lub \"Nie zgadłeś!\" w zależności od odpowiedzi użytkownika. Możesz użyć pętli `while`, aby umożliwić użytkownikowi wielokrotne próby zgadnięcia."
   ]
  },
  {
   "cell_type": "code",
   "execution_count": null,
   "metadata": {},
   "outputs": [],
   "source": []
  },
  {
   "attachments": {},
   "cell_type": "markdown",
   "metadata": {},
   "source": [
    "`Zadanie6`: Liczenie liter\n",
    "- Poproś użytkownika o wpisanie dowolnego `zdania`. Następnie wyświetl ile liter znajduje się w tym zdaniu."
   ]
  },
  {
   "cell_type": "code",
   "execution_count": null,
   "metadata": {},
   "outputs": [],
   "source": []
  },
  {
   "attachments": {},
   "cell_type": "markdown",
   "metadata": {},
   "source": [
    "`Zadanie7`: Liczenie liter\n",
    "- Poproś użytkownika o wpisanie dowolnego zdania. Następnie oblicz liczbę wystąpień każdej litery w tym zdaniu i wyświetl wynik na ekranie."
   ]
  },
  {
   "cell_type": "code",
   "execution_count": null,
   "metadata": {},
   "outputs": [],
   "source": []
  },
  {
   "attachments": {},
   "cell_type": "markdown",
   "metadata": {},
   "source": [
    "`Zadanie8`: Odwrócenie tekstu\n",
    "- Poproś użytkownika o wpisanie dowolnego tekstu. Następnie odwróć ten tekst (od prawej do lewej) i wyświetl wynik."
   ]
  },
  {
   "cell_type": "code",
   "execution_count": null,
   "metadata": {},
   "outputs": [],
   "source": []
  },
  {
   "attachments": {},
   "cell_type": "markdown",
   "metadata": {},
   "source": [
    "`Zadanie9`: Wordle\n",
    "- napiszmy wordle!"
   ]
  },
  {
   "cell_type": "code",
   "execution_count": 3,
   "metadata": {},
   "outputs": [
    {
     "name": "stdout",
     "output_type": "stream",
     "text": [
      "Welcome to Wordle!\n",
      "Try to guess the secret five-letter word.\n",
      "Result: __*_*\n",
      "Result: g_a_*\n",
      "Congratulations! You guessed the word!\n"
     ]
    }
   ],
   "source": [
    "import random\n",
    "\n",
    "def generate_random_word():\n",
    "    words = [\"apple\", \"peach\", \"mango\", \"grape\", \"lemon\", \"melon\", \"dates\", \"guava\"]\n",
    "    return random.choice(words)\n",
    "\n",
    "def get_user_guess():\n",
    "    guess = input(\"Enter your guess: \")\n",
    "    return guess.lower()\n",
    "\n",
    "def compare_words(target, guess):\n",
    "    result = \"\"\n",
    "    for i in range(len(target)):\n",
    "        if target[i] == guess[i]:\n",
    "            result += target[i]\n",
    "        elif target[i] in guess:\n",
    "            result += \"*\"\n",
    "        else:\n",
    "            result += \"_\"\n",
    "    return result\n",
    "\n",
    "def play_wordle():\n",
    "    target_word = generate_random_word()\n",
    "    attempts = 0\n",
    "    max_attempts = 5\n",
    "\n",
    "    print(\"Welcome to Wordle!\")\n",
    "    print(\"Try to guess the secret five-letter word.\")\n",
    "\n",
    "    while attempts < max_attempts:\n",
    "        user_guess = get_user_guess()\n",
    "\n",
    "        if user_guess == target_word:\n",
    "            print(\"Congratulations! You guessed the word!\")\n",
    "            break\n",
    "\n",
    "        result = compare_words(target_word, user_guess)\n",
    "        print(\"Result: \" + result)\n",
    "        attempts += 1\n",
    "\n",
    "    if attempts >= max_attempts:\n",
    "        print(\"Game over. The word was: \" + target_word)\n",
    "\n",
    "play_wordle()"
   ]
  }
 ],
 "metadata": {
  "kernelspec": {
   "display_name": "Python 3",
   "language": "python",
   "name": "python3"
  },
  "language_info": {
   "codemirror_mode": {
    "name": "ipython",
    "version": 3
   },
   "file_extension": ".py",
   "mimetype": "text/x-python",
   "name": "python",
   "nbconvert_exporter": "python",
   "pygments_lexer": "ipython3",
   "version": "3.10.11"
  },
  "orig_nbformat": 4
 },
 "nbformat": 4,
 "nbformat_minor": 2
}
