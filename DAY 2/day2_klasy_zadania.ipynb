{
 "cells": [
  {
   "attachments": {},
   "cell_type": "markdown",
   "metadata": {},
   "source": [
    "Na poczętek:\n",
    "- Stwórz klasę `Zoo`, która będzie przechowywała `listę zwierząt` i wyświetlała jej zawartość.\n",
    "- Stwórz klasę `Zwierze`, które przyjmie `imię zwierzęcia`.\n",
    "- Stwórz odpowiednie klasy dla swoich ulubionych zwierząt, tak aby każde dziedziczyło cechy wspólnej klasy `Zwierze` i potrafiło się przedstawić."
   ]
  },
  {
   "attachments": {},
   "cell_type": "markdown",
   "metadata": {},
   "source": [
    "Następnie:\n",
    "- Utwórz obiekt klasy `Zoo`\n",
    "- Utwórz swoje zwierzęta\n",
    "- Dodaj je do swojego zoo\n",
    "- Spraw, aby Zoo wypisało swoją zawartość"
   ]
  },
  {
   "cell_type": "code",
   "execution_count": null,
   "metadata": {},
   "outputs": [],
   "source": []
  },
  {
   "cell_type": "code",
   "execution_count": null,
   "metadata": {},
   "outputs": [],
   "source": []
  }
 ],
 "metadata": {
  "language_info": {
   "name": "python"
  },
  "orig_nbformat": 4
 },
 "nbformat": 4,
 "nbformat_minor": 2
}
