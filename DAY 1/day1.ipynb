{
 "cells": [
  {
   "attachments": {},
   "cell_type": "markdown",
   "metadata": {},
   "source": [
    "# Wstęp do jupytera"
   ]
  },
  {
   "attachments": {},
   "cell_type": "markdown",
   "metadata": {},
   "source": [
    "## Jak działa Jupyter Notebook??"
   ]
  },
  {
   "attachments": {},
   "cell_type": "markdown",
   "metadata": {},
   "source": [
    "`Jupyter Notebook` to specjalny program komputerowy, który pomaga nam pisać i wykonywać `kod`. Działa w przeglądarce internetowej, co oznacza, że możemy z niego korzystać na naszym komputerze, używając przeglądarki internetowej takiej jak Google Chrome lub Mozilla Firefox.\n",
    "\n",
    "Jupyter Notebook pozwala nam na pisanie kodu w małych kawałkach zwanych `komórkami`. To jak robienie notatek, ale zamiast słów, używamy kodu komputerowego. Możemy pisać kod w językach programowania takich jak `Python`, `Julia` czy `R`.\n",
    "\n",
    "Kiedy napiszemy kod w komórce, możemy go uruchomić, klikając przycisk `Run` lub używając skrótu klawiaturowego. Kiedy kod zostanie uruchomiony, Jupyter Notebook pokaże nam `wynik tego kodu poniżej komórki`. To oznacza, że możemy zobaczyć, co nasz kod robi!\n",
    "\n",
    "Ale Jupyter Notebook to nie tylko miejsce, gdzie piszemy kod. Możemy także tworzyć ładne notatki, dodając do naszego kodu `tekst`, `obrazy` czy `wykresy`. Możemy także dzielić się naszymi notatkami z innymi, aby mogli je zobaczyć i uruchomić na swoich komputerach."
   ]
  },
  {
   "attachments": {},
   "cell_type": "markdown",
   "metadata": {},
   "source": [
    "## Więcej tekstu dla zainteresowanych"
   ]
  },
  {
   "attachments": {},
   "cell_type": "markdown",
   "metadata": {},
   "source": [
    "Notatnik IPython, obecnie znany jako Jupyter Notebook, to interaktywne środowisko obliczeniowe, które umożliwia użytkownikom tworzenie i udostępnianie dokumentów zawierających aktywny kod, równania, wizualizacje i tekst narracyjny. Łączy wykonywanie kodu, tekst sformatowany, równania matematyczne i multimedia w jednym interfejsie przypominającym dokument.\n",
    "\n",
    "Podstawowym celem IPython Notebook jest zapewnienie elastycznej i interaktywnej platformy do analizy danych, obliczeń naukowych i programowania eksploracyjnego. Umożliwia użytkownikom pisanie, wykonywanie i wizualizację kodu w małych, łatwych do zarządzania komórkach. Każda komórka może zawierać kod (domyślnie Python, ale obsługuje również inne języki programowania), tekst objaśniający, równania matematyczne lub wyjścia wizualne, takie jak wykresy i wykresy.\n",
    "\n",
    "Kluczowe funkcje i zalety notebooków IPython obejmują:\n",
    "- `Wykonywanie interaktywne`: Notatnik umożliwia wykonywanie kodu komórka po komórce, co promuje interaktywny i eksploracyjny przepływ pracy. Użytkownicy mogą modyfikować i ponownie uruchamiać określone komórki, aby eksperymentować i iteracyjnie udoskonalać swój kod.\n",
    "- `Obsługa multimediów`: poza kodem notebooki obsługują formatowanie tekstu sformatowanego przy użyciu składni Markdown. Pozwala to użytkownikom na bezproblemowe włączanie wyjaśnień narracyjnych, instrukcji, obrazów, filmów i równań matematycznych do notebooka.\n",
    "- `Wizualizacja`: notebooki mogą wyświetlać graficzne wyniki, takie jak wykresy, wykresy i obrazy, bezpośrednio w dokumencie. Ta funkcja ułatwia analizę danych, wizualizację danych i możliwość prezentacji wyników w atrakcyjny wizualnie sposób.\n",
    "- `Dokumentacja kodu`: Notatniki zapewniają naturalny sposób dokumentowania kodu i analiz. Użytkownicy mogą dodawać komórki tekstowe, aby wyjaśnić logikę, metodologię i wyniki swojego kodu, ułatwiając zrozumienie i udostępnianie go innym.\n",
    "- `Powtarzalność i współpraca`: Notebooki IPython promują powtarzalne badania poprzez przechowywanie kodu, danych wyjściowych i wyjaśnień w jednym dokumencie. Dzięki temu inni mogą odtworzyć analizę lub współpracować nad notatnikiem, udostępniając plik współpracownikom lub publikując go publicznie.\n",
    "- `Rozszerzenia notebooka`: Jupyter Notebook ma żywy ekosystem rozszerzeń, które zwiększają jego funkcjonalność. Rozszerzenia te zapewniają dodatkowe funkcje, takie jak strzępienie kodu, fragmenty kodu, spis treści i inne, dzięki czemu notebooki są jeszcze bardziej wszechstronne.\n",
    "\n",
    "Ogólnie rzecz biorąc, IPython Notebooks oferuje przyjazne dla użytkownika i elastyczne środowisko do interaktywnego kodowania, analizy danych i dokumentacji. Stały się popularne wśród badaczy, analityków danych, nauczycieli i profesjonalistów, którzy chcą połączyć kod, wizualizacje i wyjaśnienia w jednym interaktywnym dokumencie."
   ]
  },
  {
   "attachments": {},
   "cell_type": "markdown",
   "metadata": {},
   "source": [
    "## Przypisywanie i wyświetlanie zmiennych"
   ]
  },
  {
   "attachments": {},
   "cell_type": "markdown",
   "metadata": {},
   "source": [
    "Aby przypisać zmienne należy podać `nazwę zmiennej`, następnie `\"=\"`, a na końcu `wartość` jaką chcemy przypisać naszej zmiennej. aby wyświetlić zmienne, musimy albo umieścić je na końcu komórki, albo w środku metody `print()`"
   ]
  },
  {
   "cell_type": "code",
   "execution_count": 4,
   "metadata": {},
   "outputs": [
    {
     "data": {
      "text/plain": [
       "1"
      ]
     },
     "execution_count": 4,
     "metadata": {},
     "output_type": "execute_result"
    }
   ],
   "source": [
    "a = 1\n",
    "a"
   ]
  },
  {
   "cell_type": "code",
   "execution_count": 7,
   "metadata": {},
   "outputs": [
    {
     "name": "stdout",
     "output_type": "stream",
     "text": [
      "5\n"
     ]
    }
   ],
   "source": [
    "print(a)"
   ]
  },
  {
   "cell_type": "code",
   "execution_count": 8,
   "metadata": {},
   "outputs": [
    {
     "data": {
      "text/plain": [
       "5"
      ]
     },
     "execution_count": 8,
     "metadata": {},
     "output_type": "execute_result"
    }
   ],
   "source": [
    "a = 5\n",
    "a"
   ]
  },
  {
   "cell_type": "code",
   "execution_count": 6,
   "metadata": {},
   "outputs": [
    {
     "ename": "SystemExit",
     "evalue": "",
     "output_type": "error",
     "traceback": [
      "An exception has occurred, use %tb to see the full traceback.\n",
      "\u001b[1;31mSystemExit\u001b[0m\n"
     ]
    }
   ],
   "source": [
    "import pygame\n",
    "import tkinter as tk\n",
    "from tkinter import ttk\n",
    "from sys import exit\n",
    "from colour import Color\n",
    "\n",
    "def hanoi(n, start, end): # create list of moves\n",
    "    if n == 1: moves.append((start,end))\n",
    "    else:\n",
    "        other = 6 - (start + end)\n",
    "        hanoi(n-1, start, other)\n",
    "        moves.append((start,end))\n",
    "        hanoi(n-1, other, end)\n",
    "\n",
    "def startmove(movenum): # remove the top disk from the starting peg and save it to a temp variable\n",
    "    start = moves[movenum][0]-1\n",
    "    end = moves[movenum][1]-1\n",
    "    a = columns[start].pop(-1)\n",
    "    activedisk = a[0]; activecolor = a[1]\n",
    "    return start, end, activedisk, activecolor\n",
    "\n",
    "def drawdisk(width,color,column,level,active=False): # draw a disk on screen\n",
    "    t = {0:70,1:200,2:330} # x position depends on column\n",
    "    y = sh-20-(10*level) # y position depends on level\n",
    "    if active: y += 10*(12-n)\n",
    "    if coloron: color = color.hex_l # convert color object to hex if necessary\n",
    "    pygame.draw.rect(screen,color,(t[column]-(width//2),y,width,10))\n",
    "\n",
    "step = -1 # the current step in a three step move\n",
    "def nxt(step):\n",
    "    if step == 3: return 1 # if the move is over, go to the next\n",
    "    else: return step + 1 # or continue the move\n",
    "\n",
    "n = 3 # number of disks defaults to 3\n",
    "mn = 0 # first index in moves list is 0\n",
    "over = False # state of animation\n",
    "delay = 201 # artificial delay in ms\n",
    "\n",
    "def increase(): # increase disks from gui\n",
    "    n = int(text.get()[-2:])\n",
    "    n += 1; n = min(n,12)\n",
    "    text.set('Disks: '+str(n))  \n",
    "\n",
    "def decrease(): # decrease disks from gui\n",
    "    n = int(text.get()[-2:])\n",
    "    n -= 1; n = max(3,n)\n",
    "    text.set('Disks: '+str(n))\n",
    "\n",
    "def kill(): # kill gui\n",
    "    gui.destroy()\n",
    "\n",
    "# tk root\n",
    "gui = tk.Tk()\n",
    "gui.geometry('660x350')  \n",
    "gui.title('Tower of Hanoi Config')\n",
    "gui.option_add('*Font', '20')\n",
    "\n",
    "text = tk.StringVar()\n",
    "text.set('Disks: '+str(n))\n",
    "\n",
    "# color\n",
    "c = tk.BooleanVar(value=False)\n",
    "\n",
    "# show number of disks\n",
    "nlabel = tk.Label(gui, textvariable=text)\n",
    "nlabel.grid(column=1,row=0,ipady=10)\n",
    "\n",
    "instructions = tk.Label(gui, text=\"Use the arrows above to change the number of disks in the tower.\\n\\\n",
    "    Check the Color box to toggle colored disks.\\n\\\n",
    "    When ready, press Start.\\n\\\n",
    "    Use the up and down arrow keys to change the speed of the animation.\\n\\n\\\n",
    "    The Tower of Hanoi is a puzzle with 3 pegs and a certain number of\\n\\\n",
    "    differently sized disks stacked on the first peg in decreasing order of size.\\n\\\n",
    "    The goal is to move this stack to the third peg under these rules:\\n\\n\\\n",
    "    1: Only one disk can be moved at a time.\\n\\\n",
    "    2: Only the top disk on a stack can be taken and placed on the top of another.\\n\\\n",
    "    3: No disk may be placed on top of a smaller disk.\\n\\n\\\n",
    "    This simulation limits the number of disks from 3 to 12 inclusive.\")\n",
    "instructions.grid(column=0,row=4,columnspan=3,ipady=10)\n",
    "\n",
    "increasebutton = tk.Button(gui, text=\">\", command=increase)\n",
    "increasebutton.grid(column=2,row=0,ipady=10)\n",
    "\n",
    "decreasebutton = tk.Button(gui, text='<', command=decrease)\n",
    "decreasebutton.grid(column=0,row=0,ipady=10)\n",
    "\n",
    "startbutton = tk.Button(gui, text='Start', command=kill)\n",
    "startbutton.grid(column=1,row=3,ipady=10)\n",
    "\n",
    "colorbox = tk.Checkbutton(gui,text='Color',variable=c,onvalue=True)\n",
    "colorbox.grid(column=1,row=2,ipady=10)\n",
    "\n",
    "gui.mainloop()\n",
    "\n",
    "# read disks and color toggle\n",
    "n = int(text.get()[-2:])\n",
    "coloron = c.get()\n",
    "\n",
    "pygame.init()\n",
    "\n",
    "if coloron: red = Color('red'); colors = list(red.range_to(Color('blue'),n)) # creates a list of n colors from red to blue\n",
    "else: colors = [0xffffff for _ in range(n)] # or make them all white\n",
    "\n",
    "sw = 400 # screen width\n",
    "sh = 170-10*(12-n) # screen height\n",
    "#sh = 170\n",
    "screen = pygame.display.set_mode((sw,sh)) \n",
    "\n",
    "moves = [] # list of moves to solve the hanoi problem\n",
    "columns = [[],[],[]] # there are three columns, each being a list of disks\n",
    "\n",
    "for i in range(1,n+1): columns[0].insert(0,(10+10*i,colors[i-1])) # stack n disks on the first column\n",
    "\n",
    "hanoi(n,1,3) # generate moves\n",
    "\n",
    "while True:\n",
    "    screen.fill((50,50,50))\n",
    "    pygame.display.set_caption(f\"Tower of Hanoi | {n} disks | move {mn+1} | {delay-1} ms\")\n",
    "    \n",
    "    for event in pygame.event.get(): \n",
    "        if event.type == pygame.QUIT: pygame.quit(); exit()\n",
    "    \n",
    "    keys = pygame.key.get_pressed() # change delay on input\n",
    "    if keys[pygame.K_UP]: delay -= 25\n",
    "    elif keys[pygame.K_DOWN]: delay += 25\n",
    "    delay = max(1,min(delay,1001))\n",
    "\n",
    "    # draw columns\n",
    "    pygame.draw.rect(screen,(255,255,255),(0,sh-10,sw,10))\n",
    "    pygame.draw.rect(screen,(255,255,255),(65,sh-140+10*(12-n),10,sh))\n",
    "    pygame.draw.rect(screen,(255,255,255),(195,sh-140+10*(12-n),10,sh))\n",
    "    pygame.draw.rect(screen,(255,255,255),(325,sh-140+10*(12-n),10,sh))\n",
    "    \n",
    "    step = nxt(step) # next step\n",
    "    if not over:\n",
    "        if step == 1: # remove the active disk from the start column and draw it above\n",
    "            start, end, activedisk, activecolor = startmove(mn)\n",
    "            drawdisk(activedisk,activecolor,start,14,True)\n",
    "        elif step == 2: # then draw the active disk above the end column\n",
    "            drawdisk(activedisk,activecolor,end,14,True)\n",
    "        elif step == 3: # then add the active disk to the end column\n",
    "            columns[end].append((activedisk,activecolor))\n",
    "    \n",
    "    if step == 3 and not over: # go to next move after 3 steps\n",
    "        mn += 1\n",
    "        if mn == len(moves): over = True; mn -= 1 # stop if no more moves\n",
    "    \n",
    "    for col, column in enumerate(columns): # draw all disks besides the active one\n",
    "        for level,disk in enumerate(column): drawdisk(disk[0],disk[1],col,level)\n",
    "    \n",
    "    pygame.display.update()\n",
    "    pygame.time.delay(delay)"
   ]
  }
 ],
 "metadata": {
  "kernelspec": {
   "display_name": "Python 3",
   "language": "python",
   "name": "python3"
  },
  "language_info": {
   "codemirror_mode": {
    "name": "ipython",
    "version": 3
   },
   "file_extension": ".py",
   "mimetype": "text/x-python",
   "name": "python",
   "nbconvert_exporter": "python",
   "pygments_lexer": "ipython3",
   "version": "3.11.4"
  },
  "orig_nbformat": 4
 },
 "nbformat": 4,
 "nbformat_minor": 2
}
