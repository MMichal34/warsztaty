{
 "cells": [
  {
   "attachments": {},
   "cell_type": "markdown",
   "metadata": {},
   "source": [
    "# Klasy"
   ]
  },
  {
   "attachments": {},
   "cell_type": "markdown",
   "metadata": {},
   "source": [
    "`Klasy` w `Pythonie` są narzędziem, które pomaga nam organizować i strukturyzować kod. Można je porównać do `szablonów` lub `wzorców`, które definiują `cechy` i `zachowanie` obiektów. W skrócie, klasa to zbiór `funkcji` i `zmiennych`, które działają razem."
   ]
  },
  {
   "attachments": {},
   "cell_type": "markdown",
   "metadata": {},
   "source": [
    "Aby zrozumieć `klasy`, przyjrzyjmy się przykładowej sytuacji związanej z kotami. Jeśli chcemy napisać program, który ma reprezentować różne koty, możemy stworzyć klasę o nazwie \"Kot\". Klasa ta będzie miała pewne cechy i zachowanie, które definiują koty w ogólności."
   ]
  },
  {
   "cell_type": "code",
   "execution_count": 2,
   "metadata": {},
   "outputs": [],
   "source": [
    "class Kot:\n",
    "    def __init__(self, imie):\n",
    "        self.imie = imie\n",
    "    \n",
    "    def miaucz(self):\n",
    "        print(\"Miau!\")\n",
    "    \n",
    "    def podaj_imie(self):\n",
    "        print(\"Moje imię to\", self.imie)\n"
   ]
  },
  {
   "attachments": {},
   "cell_type": "markdown",
   "metadata": {},
   "source": [
    "W tym przykładzie mamy klasę o nazwie `Kot`. Ma ona dwie `funkcje` (`metody`): miaucz i podaj_imie. Funkcja __init__ to specjalna funkcja, która jest wywoływana automatycznie przy tworzeniu nowego `obiektu klasy`. W naszym przypadku, przy tworzeniu nowego kota, przekazujemy jego imię do funkcji __init__."
   ]
  },
  {
   "attachments": {},
   "cell_type": "markdown",
   "metadata": {},
   "source": [
    "Teraz możemy utworzyć `instancję (obiekt)` tej klasy, czyli konkretnego kota. Oto przykład:"
   ]
  },
  {
   "cell_type": "code",
   "execution_count": 3,
   "metadata": {},
   "outputs": [
    {
     "name": "stdout",
     "output_type": "stream",
     "text": [
      "Miau!\n",
      "Moje imię to Mruczek\n"
     ]
    }
   ],
   "source": [
    "kot1 = Kot(\"Mruczek\")\n",
    "kot1.miaucz()  # Wywołanie metody miaucz: kot1.miaucz()\n",
    "kot1.podaj_imie()  # Wywołanie metody podaj_imie: kot1.podaj_imie()"
   ]
  },
  {
   "attachments": {},
   "cell_type": "markdown",
   "metadata": {},
   "source": [
    "Po utworzeniu `obiektu` kot1 możemy wywołać jego `metody`, takie jak miaucz i podaj_imie. `Metoda` miaucz spowoduje wyświetlenie napisu \"Miau!\", a `metoda` podaj_imie wyświetli imię kota, czyli \"Mruczek\".\n",
    "\n",
    "Klasy pozwalają nam tworzyć wiele obiektów (`instancji`) o tych samych cechach i zachowaniach. Na przykład możemy stworzyć drugiego kota:"
   ]
  },
  {
   "cell_type": "code",
   "execution_count": 4,
   "metadata": {},
   "outputs": [
    {
     "name": "stdout",
     "output_type": "stream",
     "text": [
      "Miau!\n",
      "Moje imię to Filemon\n"
     ]
    }
   ],
   "source": [
    "kot2 = Kot(\"Filemon\")\n",
    "kot2.miaucz()\n",
    "kot2.podaj_imie()"
   ]
  },
  {
   "attachments": {},
   "cell_type": "markdown",
   "metadata": {},
   "source": [
    "Teraz mamy dwa różne koty, kot1 i kot2, z różnymi imionami, ale z tą samą funkcjonalnością."
   ]
  },
  {
   "attachments": {},
   "cell_type": "markdown",
   "metadata": {},
   "source": [
    "`Dziedziczenie` w Pythonie to mechanizm, który umożliwia tworzenie nowych klas na podstawie istniejących klas. Klasa dziedzicząca (nazywana również podklasą) może odziedziczyć atrybuty i metody z klasy nadrzędnej (nazywanej również nadklasą lub nadrzędną), co umożliwia ponowne wykorzystanie kodu i tworzenie `hierarchii` klas."
   ]
  },
  {
   "attachments": {},
   "cell_type": "markdown",
   "metadata": {},
   "source": [
    "`Dziedziczenie` jest często stosowane, gdy chcemy utworzyć `specjalizowane klasy`, które mają większą specyfikę lub rozszerzone funkcje w porównaniu do klasy nadrzędnej."
   ]
  },
  {
   "cell_type": "code",
   "execution_count": 1,
   "metadata": {},
   "outputs": [],
   "source": [
    "class Zwierzę:\n",
    "    def __init__(self, imie):\n",
    "        self.imie = imie\n",
    "    \n",
    "    def daj_glos(self):\n",
    "        print(\"Zwierzę wydaje dźwięk.\")\n",
    "\n",
    "class Kot(Zwierzę):  # Klasa Kot dziedziczy po klasie Zwierzę\n",
    "    def daj_glos(self):  # Przesłonięcie metody z klasy Zwierzę\n",
    "        print(\"Miau!\")"
   ]
  },
  {
   "attachments": {},
   "cell_type": "markdown",
   "metadata": {},
   "source": [
    "W tym przykładzie mamy klasę `Zwierzę`, która ma metodę daj_glos. Następnie tworzymy klasę `Kot`, która dziedziczy po klasie `Zwierzę`. Klasa `Kot` ma również metodę daj_glos, która jest przesłonięciem (nadpisaniem) metody daj_glos z klasy `Zwierzę`."
   ]
  },
  {
   "attachments": {},
   "cell_type": "markdown",
   "metadata": {},
   "source": [
    "Dzięki dziedziczeniu, obiekty klasy `Kot` będą miały zarówno `atrybuty` i `metody` z klasy `Kot`, jak i z klasy `Zwierzę`. Możemy to zobaczyć na przykładzie:"
   ]
  },
  {
   "cell_type": "code",
   "execution_count": 2,
   "metadata": {},
   "outputs": [
    {
     "name": "stdout",
     "output_type": "stream",
     "text": [
      "Zwierzę wydaje dźwięk.\n",
      "Miau!\n"
     ]
    }
   ],
   "source": [
    "zwierze = Zwierzę(\"Zwierzę\")\n",
    "zwierze.daj_glos()  # Wywołanie metody z klasy Zwierzę\n",
    "\n",
    "kot = Kot(\"Mruczek\")\n",
    "kot.daj_glos()  # Wywołanie przesłoniętej metody z klasy Kot"
   ]
  },
  {
   "attachments": {},
   "cell_type": "markdown",
   "metadata": {},
   "source": [
    "W przypadku obiektu zwierze, który jest instancją klasy `Zwierzę`, wywołanie metody daj_glos spowoduje wyświetlenie napisu `Zwierzę wydaje dźwięk.`\n",
    "\n",
    "Natomiast obiekt kot, który jest instancją klasy `Kot`, wywołanie metody daj_glos spowoduje wyświetlenie napisu `Miau!`. Dzięki dziedziczeniu, obiekty klasy `Kot` mają dostęp do metod z klasy `Zwierzę`, ale mogą również nadpisać te metody, aby wprowadzić własne specyficzne zachowanie."
   ]
  },
  {
   "attachments": {},
   "cell_type": "markdown",
   "metadata": {},
   "source": [
    "`Klasy` w Pythonie są bardzo potężnym narzędziem, które pomaga nam tworzyć bardziej zorganizowany i łatwiejszy do zrozumienia kod. Mogą być używane do reprezentowania różnych obiektów i modelowania rzeczywistości w programach.\n",
    "\n",
    "`Dziedziczenie` w Pythonie umożliwia tworzenie hierarchii klas i ułatwia ponowne wykorzystywanie kodu"
   ]
  }
 ],
 "metadata": {
  "kernelspec": {
   "display_name": "Python 3",
   "language": "python",
   "name": "python3"
  },
  "language_info": {
   "codemirror_mode": {
    "name": "ipython",
    "version": 3
   },
   "file_extension": ".py",
   "mimetype": "text/x-python",
   "name": "python",
   "nbconvert_exporter": "python",
   "pygments_lexer": "ipython3",
   "version": "3.11.4"
  },
  "orig_nbformat": 4
 },
 "nbformat": 4,
 "nbformat_minor": 2
}
