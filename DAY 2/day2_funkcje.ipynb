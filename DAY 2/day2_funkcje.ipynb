{
 "cells": [
  {
   "attachments": {},
   "cell_type": "markdown",
   "metadata": {},
   "source": [
    "# Funkcje"
   ]
  },
  {
   "attachments": {},
   "cell_type": "markdown",
   "metadata": {},
   "source": [
    "`Funkcje` w Pythonie to `bloki kodu`, które wykonują określone zadania. Właściwie można je porównać do małych programów w obrębie większego programu. Funkcje są bardzo przydatne, ponieważ pozwalają nam napisać kod, który możemy `wielokrotnie wykorzystywać` bez konieczności powtarzania go za każdym razem."
   ]
  },
  {
   "attachments": {},
   "cell_type": "markdown",
   "metadata": {},
   "source": [
    "Aby utworzyć `funkcję` w Pythonie, musimy użyć słowa kluczowego `def`, które oznacza definicję `funkcji`. Oto prosty przykład funkcji:"
   ]
  },
  {
   "cell_type": "code",
   "execution_count": 1,
   "metadata": {},
   "outputs": [],
   "source": [
    "def przywitaj_sie():\n",
    "    print(\"siema:))\")"
   ]
  },
  {
   "attachments": {},
   "cell_type": "markdown",
   "metadata": {},
   "source": [
    "W tym przykładzie utworzyliśmy `funkcję` o nazwie `przywitaj_sie`. Po słowie kluczowym `def` podajemy `nazwę funkcji`, a po dwukropku rozpoczynamy blok kodu funkcji. W tym przypadku funkcja składa się tylko z jednej instrukcji, która drukuje na ekranie napis \"siema:))\"."
   ]
  },
  {
   "attachments": {},
   "cell_type": "markdown",
   "metadata": {},
   "source": [
    "Aby wywołać funkcję i sprawić, żeby wykonano jej kod, używamy nazwy funkcji z nawiasami."
   ]
  },
  {
   "cell_type": "code",
   "execution_count": 2,
   "metadata": {},
   "outputs": [
    {
     "name": "stdout",
     "output_type": "stream",
     "text": [
      "siema:))\n"
     ]
    }
   ],
   "source": [
    "przywitaj_sie()"
   ]
  },
  {
   "attachments": {},
   "cell_type": "markdown",
   "metadata": {},
   "source": [
    "`Funkcje` mogą również przyjmować `argumenty`, które pozwalają im na przetwarzanie różnych danych w zależności od potrzeb. Oto przykład funkcji z argumentem:"
   ]
  },
  {
   "cell_type": "code",
   "execution_count": 3,
   "metadata": {},
   "outputs": [
    {
     "name": "stdout",
     "output_type": "stream",
     "text": [
      "Cześć, Anna! Jak się masz?\n"
     ]
    }
   ],
   "source": [
    "def powiedz_czesc(imie):\n",
    "    print(f\"Cześć, {imie}! Jak się masz?\")\n",
    "\n",
    "powiedz_czesc(\"Anna\")"
   ]
  },
  {
   "attachments": {},
   "cell_type": "markdown",
   "metadata": {},
   "source": [
    "W tym przypadku funkcja `powiedz_czesc` przyjmuje jeden argument o nazwie `imie`. Kiedy wywołujemy `funkcję` i przekazujemy do niej `argument` `Anna`, zostanie wyświetlone `Cześć, Anna! Jak się masz?`."
   ]
  },
  {
   "attachments": {},
   "cell_type": "markdown",
   "metadata": {},
   "source": [
    "Mamy też możliwość zdefiniowania `wartości domyślnych` dla argumentów `funkcji`, tak aby nie było konieczne przekazywanie ich za każdym razem. Oto przykład:"
   ]
  },
  {
   "cell_type": "code",
   "execution_count": 7,
   "metadata": {},
   "outputs": [
    {
     "name": "stdout",
     "output_type": "stream",
     "text": [
      "Cześć! Jak się masz?\n",
      "Cześć, Jan! Jak się masz?\n"
     ]
    }
   ],
   "source": [
    "def powiedz_czesc(imie=\"\"):\n",
    "    if imie:\n",
    "        print(f\"Cześć, {imie}! Jak się masz?\")\n",
    "    else:\n",
    "        print(\"Cześć! Jak się masz?\")\n",
    "\n",
    "powiedz_czesc()\n",
    "powiedz_czesc(\"Jan\")"
   ]
  },
  {
   "attachments": {},
   "cell_type": "markdown",
   "metadata": {},
   "source": [
    "Teraz funkcja `powiedz_czesc` ma wartość domyślną dla argumentu `imie` ustawioną na pusty napis `\"\"`. Jeśli przekażemy jakiekolwiek imię, zostanie ono wyświetlone w komunikacie powitalnym, w przeciwnym razie zostanie wyświetlone ogólne powitanie.\n",
    "\n",
    "To tylko podstawy dotyczące `funkcji` w Pythonie. Są one bardzo ważne w programowaniu i pozwalają na bardziej zorganizowany i modułowy kod."
   ]
  }
 ],
 "metadata": {
  "kernelspec": {
   "display_name": "Python 3",
   "language": "python",
   "name": "python3"
  },
  "language_info": {
   "codemirror_mode": {
    "name": "ipython",
    "version": 3
   },
   "file_extension": ".py",
   "mimetype": "text/x-python",
   "name": "python",
   "nbconvert_exporter": "python",
   "pygments_lexer": "ipython3",
   "version": "3.11.4"
  },
  "orig_nbformat": 4
 },
 "nbformat": 4,
 "nbformat_minor": 2
}
