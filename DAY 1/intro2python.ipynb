{
 "cells": [
  {
   "attachments": {},
   "cell_type": "markdown",
   "metadata": {},
   "source": [
    "# INTRO 2 IPYNB"
   ]
  },
  {
   "cell_type": "code",
   "execution_count": null,
   "metadata": {},
   "outputs": [],
   "source": [
    "import tests1 as t"
   ]
  },
  {
   "attachments": {},
   "cell_type": "markdown",
   "metadata": {},
   "source": [
    "## Jak działa Jupyter Notebook??"
   ]
  },
  {
   "attachments": {},
   "cell_type": "markdown",
   "metadata": {},
   "source": [
    "`Jupyter Notebook` to specjalny program komputerowy, który pomaga nam pisać i wykonywać `kod`. Działa w przeglądarce internetowej, co oznacza, że możemy z niego korzystać na naszym komputerze, używając przeglądarki internetowej takiej jak Google Chrome lub Mozilla Firefox.\n",
    "\n",
    "Jupyter Notebook pozwala nam na pisanie kodu w małych kawałkach zwanych `komórkami`. To jak robienie notatek, ale zamiast słów, używamy kodu komputerowego. Możemy pisać kod w językach programowania takich jak `Python`, `Julia` czy `R`.\n",
    "\n",
    "Kiedy napiszemy kod w komórce, możemy go uruchomić, klikając przycisk `Run` lub używając skrótu klawiaturowego. Kiedy kod zostanie uruchomiony, Jupyter Notebook pokaże nam `wynik tego kodu poniżej komórki`. To oznacza, że możemy zobaczyć, co nasz kod robi!\n",
    "\n",
    "Ale Jupyter Notebook to nie tylko miejsce, gdzie piszemy kod. Możemy także tworzyć ładne notatki, dodając do naszego kodu `tekst`, `obrazy` czy `wykresy`. Możemy także dzielić się naszymi notatkami z innymi, aby mogli je zobaczyć i uruchomić na swoich komputerach."
   ]
  },
  {
   "attachments": {},
   "cell_type": "markdown",
   "metadata": {},
   "source": [
    "## Więcej tekstu dla zainteresowanych"
   ]
  },
  {
   "attachments": {},
   "cell_type": "markdown",
   "metadata": {},
   "source": [
    "Notatnik IPython, obecnie znany jako Jupyter Notebook, to interaktywne środowisko obliczeniowe, które umożliwia użytkownikom tworzenie i udostępnianie dokumentów zawierających aktywny kod, równania, wizualizacje i tekst narracyjny. Łączy wykonywanie kodu, tekst sformatowany, równania matematyczne i multimedia w jednym interfejsie przypominającym dokument.\n",
    "\n",
    "Podstawowym celem IPython Notebook jest zapewnienie elastycznej i interaktywnej platformy do analizy danych, obliczeń naukowych i programowania eksploracyjnego. Umożliwia użytkownikom pisanie, wykonywanie i wizualizację kodu w małych, łatwych do zarządzania komórkach. Każda komórka może zawierać kod (domyślnie Python, ale obsługuje również inne języki programowania), tekst objaśniający, równania matematyczne lub wyjścia wizualne, takie jak wykresy i wykresy.\n",
    "\n",
    "Kluczowe funkcje i zalety notebooków IPython obejmują:\n",
    "- `Wykonywanie interaktywne`: Notatnik umożliwia wykonywanie kodu komórka po komórce, co promuje interaktywny i eksploracyjny przepływ pracy. Użytkownicy mogą modyfikować i ponownie uruchamiać określone komórki, aby eksperymentować i iteracyjnie udoskonalać swój kod.\n",
    "- `Obsługa multimediów`: poza kodem notebooki obsługują formatowanie tekstu sformatowanego przy użyciu składni Markdown. Pozwala to użytkownikom na bezproblemowe włączanie wyjaśnień narracyjnych, instrukcji, obrazów, filmów i równań matematycznych do notebooka.\n",
    "- `Wizualizacja`: notebooki mogą wyświetlać graficzne wyniki, takie jak wykresy, wykresy i obrazy, bezpośrednio w dokumencie. Ta funkcja ułatwia analizę danych, wizualizację danych i możliwość prezentacji wyników w atrakcyjny wizualnie sposób.\n",
    "- `Dokumentacja kodu`: Notatniki zapewniają naturalny sposób dokumentowania kodu i analiz. Użytkownicy mogą dodawać komórki tekstowe, aby wyjaśnić logikę, metodologię i wyniki swojego kodu, ułatwiając zrozumienie i udostępnianie go innym.\n",
    "- `Powtarzalność i współpraca`: Notebooki IPython promują powtarzalne badania poprzez przechowywanie kodu, danych wyjściowych i wyjaśnień w jednym dokumencie. Dzięki temu inni mogą odtworzyć analizę lub współpracować nad notatnikiem, udostępniając plik współpracownikom lub publikując go publicznie.\n",
    "- `Rozszerzenia notebooka`: Jupyter Notebook ma żywy ekosystem rozszerzeń, które zwiększają jego funkcjonalność. Rozszerzenia te zapewniają dodatkowe funkcje, takie jak strzępienie kodu, fragmenty kodu, spis treści i inne, dzięki czemu notebooki są jeszcze bardziej wszechstronne.\n",
    "\n",
    "Ogólnie rzecz biorąc, IPython Notebooks oferuje przyjazne dla użytkownika i elastyczne środowisko do interaktywnego kodowania, analizy danych i dokumentacji. Stały się popularne wśród badaczy, analityków danych, nauczycieli i profesjonalistów, którzy chcą połączyć kod, wizualizacje i wyjaśnienia w jednym interaktywnym dokumencie."
   ]
  },
  {
   "attachments": {},
   "cell_type": "markdown",
   "metadata": {},
   "source": [
    "## Wykonanie interaktywne:\n",
    "W notatniku możesz wykonywać komórki kodu pojedynczo i natychmiast wyświetlać dane wyjściowe. Oto przykład:"
   ]
  },
  {
   "cell_type": "code",
   "execution_count": 9,
   "metadata": {},
   "outputs": [],
   "source": [
    "a = 5"
   ]
  },
  {
   "cell_type": "code",
   "execution_count": 10,
   "metadata": {},
   "outputs": [],
   "source": [
    "b = 10"
   ]
  },
  {
   "cell_type": "code",
   "execution_count": 11,
   "metadata": {},
   "outputs": [],
   "source": [
    "wynik = a + b"
   ]
  },
  {
   "cell_type": "code",
   "execution_count": 13,
   "metadata": {},
   "outputs": [
    {
     "data": {
      "text/plain": [
       "15"
      ]
     },
     "execution_count": 13,
     "metadata": {},
     "output_type": "execute_result"
    }
   ],
   "source": [
    "wynik"
   ]
  },
  {
   "cell_type": "code",
   "execution_count": 14,
   "metadata": {},
   "outputs": [
    {
     "data": {
      "text/plain": [
       "25"
      ]
     },
     "execution_count": 14,
     "metadata": {},
     "output_type": "execute_result"
    }
   ],
   "source": [
    "wynik += 10\n",
    "wynik"
   ]
  },
  {
   "attachments": {},
   "cell_type": "markdown",
   "metadata": {},
   "source": [
    "## Typy zmiennych w Pythonie"
   ]
  },
  {
   "cell_type": "code",
   "execution_count": 8,
   "metadata": {},
   "outputs": [],
   "source": [
    "# Typy liczbowe\n",
    "zmienna_całkowitoliczbowa = 10\n",
    "zmienna_przecinkowa = 3.14\n",
    "zmienna_zespolona = 2 + 3j"
   ]
  },
  {
   "cell_type": "code",
   "execution_count": 9,
   "metadata": {},
   "outputs": [],
   "source": [
    "# Typy tekstowe\n",
    "zmienna_tekstowa = \"Hello, World!\"\n",
    "zmienna_tekstowa_wielolinijkowa = \"\"\"This is a multi-line string.\n",
    "It can contain multiple lines of text.\"\"\""
   ]
  },
  {
   "cell_type": "code",
   "execution_count": 10,
   "metadata": {},
   "outputs": [],
   "source": [
    "# Typy logiczne\n",
    "prawda = True\n",
    "fałsz = False"
   ]
  },
  {
   "cell_type": "code",
   "execution_count": 14,
   "metadata": {},
   "outputs": [],
   "source": [
    "# Typy sekwencyjne\n",
    "lista = [1, 2, 3, 4, 5]\n",
    "sekwencja = (6, 7, 8, 9, 10)\n",
    "zbiór = {1, 2, 3, 4, 5}\n",
    "słownik = {'name': 'John', 'age': 30, 'city': 'New York'}"
   ]
  },
  {
   "cell_type": "code",
   "execution_count": 15,
   "metadata": {},
   "outputs": [
    {
     "name": "stdout",
     "output_type": "stream",
     "text": [
      "zmienna_całkowitoliczbowa: 10\n",
      "zmienna_przecinkowa: 3.14\n",
      "zmienna_zespolona: (2+3j) \n",
      "\n",
      "zmienna_tekstowa: Hello, World!\n",
      "multiline_string_var: This is a multi-line string.\n",
      "It can contain multiple lines of text. \n",
      "\n",
      "prawda: True\n",
      "fałsz: False \n",
      "\n",
      "list_var: [1, 2, 3, 4, 5]\n",
      "tuple_var: (6, 7, 8, 9, 10)\n",
      "set_var: {1, 2, 3, 4, 5}\n",
      "dictionary_var: {'name': 'John', 'age': 30, 'city': 'New York'}\n"
     ]
    }
   ],
   "source": [
    "# Wyświetlanie zmiennych\n",
    "print(\"zmienna_całkowitoliczbowa:\", zmienna_całkowitoliczbowa)\n",
    "print(\"zmienna_przecinkowa:\", zmienna_przecinkowa)\n",
    "print(\"zmienna_zespolona:\", zmienna_zespolona, '\\n')\n",
    "\n",
    "print(\"zmienna_tekstowa:\", zmienna_tekstowa)\n",
    "print(\"multiline_string_var:\", zmienna_tekstowa_wielolinijkowa, '\\n')\n",
    "\n",
    "print(\"prawda:\", prawda)\n",
    "print(\"fałsz:\", fałsz, '\\n')\n",
    "\n",
    "print(\"list_var:\", lista)\n",
    "print(\"tuple_var:\", sekwencja)\n",
    "print(\"set_var:\", zbiór)\n",
    "print(\"dictionary_var:\", słownik)"
   ]
  },
  {
   "attachments": {},
   "cell_type": "markdown",
   "metadata": {},
   "source": [
    "### Operacje matematyczne:"
   ]
  },
  {
   "cell_type": "code",
   "execution_count": 1,
   "metadata": {},
   "outputs": [
    {
     "name": "stdout",
     "output_type": "stream",
     "text": [
      "Suma: 8\n"
     ]
    }
   ],
   "source": [
    "# Dodawanie\n",
    "a = 5\n",
    "b = 3\n",
    "sum_result = a + b\n",
    "print(\"Suma:\", sum_result)"
   ]
  },
  {
   "cell_type": "code",
   "execution_count": 2,
   "metadata": {},
   "outputs": [
    {
     "name": "stdout",
     "output_type": "stream",
     "text": [
      "Różnica: 3\n"
     ]
    }
   ],
   "source": [
    "# Odejmowanie\n",
    "c = 10\n",
    "d = 7\n",
    "difference_result = c - d\n",
    "print(\"Różnica:\", difference_result)"
   ]
  },
  {
   "cell_type": "code",
   "execution_count": 3,
   "metadata": {},
   "outputs": [
    {
     "name": "stdout",
     "output_type": "stream",
     "text": [
      "Iloczyn: 24\n"
     ]
    }
   ],
   "source": [
    "# Mnożenie\n",
    "e = 4\n",
    "f = 6\n",
    "product_result = e * f\n",
    "print(\"Iloczyn:\", product_result)"
   ]
  },
  {
   "cell_type": "code",
   "execution_count": 4,
   "metadata": {},
   "outputs": [
    {
     "name": "stdout",
     "output_type": "stream",
     "text": [
      "Iloraz: 3.75\n"
     ]
    }
   ],
   "source": [
    "# Dzielenie\n",
    "g = 15\n",
    "h = 4\n",
    "division_result = g / h\n",
    "print(\"Iloraz:\", division_result)"
   ]
  },
  {
   "cell_type": "code",
   "execution_count": 5,
   "metadata": {},
   "outputs": [
    {
     "name": "stdout",
     "output_type": "stream",
     "text": [
      "Dzielenie całkowite: 3\n"
     ]
    }
   ],
   "source": [
    "# Dzielenie całkowite (bez reszty)\n",
    "i = 15\n",
    "j = 4\n",
    "integer_division_result = i // j\n",
    "print(\"Dzielenie całkowite:\", integer_division_result)"
   ]
  },
  {
   "cell_type": "code",
   "execution_count": 6,
   "metadata": {},
   "outputs": [
    {
     "name": "stdout",
     "output_type": "stream",
     "text": [
      "Reszta z dzielenia: 3\n"
     ]
    }
   ],
   "source": [
    "# Reszta z dzielenia\n",
    "k = 15\n",
    "l = 4\n",
    "remainder_result = k % l\n",
    "print(\"Reszta z dzielenia:\", remainder_result)"
   ]
  },
  {
   "cell_type": "code",
   "execution_count": 7,
   "metadata": {},
   "outputs": [
    {
     "name": "stdout",
     "output_type": "stream",
     "text": [
      "Potęga: 32\n"
     ]
    }
   ],
   "source": [
    "# Potęgowanie\n",
    "m = 2\n",
    "n = 5\n",
    "power_result = m ** n\n",
    "print(\"Potęga:\", power_result)"
   ]
  },
  {
   "attachments": {},
   "cell_type": "markdown",
   "metadata": {},
   "source": [
    "### Operacje logiczne"
   ]
  },
  {
   "cell_type": "code",
   "execution_count": 19,
   "metadata": {},
   "outputs": [
    {
     "name": "stdout",
     "output_type": "stream",
     "text": [
      "5 == 10: False\n",
      "5 != 10: True\n",
      "5 > 10: False\n",
      "5 < 10: True\n",
      "5 >= 10: False\n",
      "5 <= 10: True\n"
     ]
    }
   ],
   "source": [
    "prawda = True\n",
    "fałsz = False\n",
    "\n",
    "# Porównywanie\n",
    "a = 5\n",
    "b = 10\n",
    "\n",
    "print(f\"{a} == {b}:\", a == b)\n",
    "print(f\"{a} != {b}:\", a != b)\n",
    "print(f\"{a} > {b}:\", a > b)\n",
    "print(f\"{a} < {b}:\", a < b)\n",
    "print(f\"{a} >= {b}:\", a >= b)\n",
    "print(f\"{a} <= {b}:\", a <= b)"
   ]
  },
  {
   "cell_type": "code",
   "execution_count": 22,
   "metadata": {},
   "outputs": [
    {
     "name": "stdout",
     "output_type": "stream",
     "text": [
      "15 > 10 > 5: True\n",
      "15 > 10 < 5: False\n"
     ]
    }
   ],
   "source": [
    "# Składanie warunków\n",
    "c = 15\n",
    "d = 10\n",
    "e = 5\n",
    "\n",
    "print(f\"{c} > {d} > {e}:\", c > d > e)\n",
    "print(f\"{c} > {d} < {e}:\", c > d < e)"
   ]
  },
  {
   "cell_type": "code",
   "execution_count": 21,
   "metadata": {},
   "outputs": [
    {
     "name": "stdout",
     "output_type": "stream",
     "text": [
      "prawda and fałsz: False\n",
      "prawda or fałsz: True\n",
      "not fałsz: True\n"
     ]
    }
   ],
   "source": [
    "# Operatory logiczne\n",
    "prawda = True\n",
    "fałsz = False\n",
    "\n",
    "print(f\"prawda and fałsz:\", prawda and fałsz)\n",
    "print(f\"prawda or fałsz:\", prawda or fałsz)\n",
    "print(f\"not fałsz:\", not fałsz)"
   ]
  },
  {
   "cell_type": "code",
   "execution_count": 23,
   "metadata": {},
   "outputs": [
    {
     "name": "stdout",
     "output_type": "stream",
     "text": [
      "5 & 3: 1\n",
      "5 | 3: 7\n",
      "5 ^ 3: 6\n",
      "5 << 3: 40\n",
      "5 >> 3: 0\n"
     ]
    }
   ],
   "source": [
    "# Operatory bitowe\n",
    "a = 5\n",
    "b = 3\n",
    "\n",
    "print(f\"{a} & {b}:\", a & b)\n",
    "print(f\"{a} | {b}:\", a | b)\n",
    "print(f\"{a} ^ {b}:\", a ^ b)\n",
    "print(f\"{a} << {b}:\", a << b)\n",
    "print(f\"{a} >> {b}:\", a >> b)"
   ]
  },
  {
   "attachments": {},
   "cell_type": "markdown",
   "metadata": {},
   "source": [
    "### Listy"
   ]
  },
  {
   "cell_type": "code",
   "execution_count": 37,
   "metadata": {},
   "outputs": [
    {
     "name": "stdout",
     "output_type": "stream",
     "text": [
      "lista: [1, 2, 3, 4, 5]\n"
     ]
    }
   ],
   "source": [
    "# Listy\n",
    "lista = [1, 2, 3, 4, 5]\n",
    "print(\"lista:\", lista)"
   ]
  },
  {
   "cell_type": "code",
   "execution_count": 38,
   "metadata": {},
   "outputs": [
    {
     "name": "stdout",
     "output_type": "stream",
     "text": [
      "lista: [1, 2, 3, 4, 5, 6]\n"
     ]
    }
   ],
   "source": [
    "# dodawanie elementów do listy:\n",
    "lista.append(6)\n",
    "print(\"lista:\", lista)"
   ]
  },
  {
   "cell_type": "code",
   "execution_count": 39,
   "metadata": {},
   "outputs": [
    {
     "name": "stdout",
     "output_type": "stream",
     "text": [
      "lista: [1, 2, 4, 5, 6]\n"
     ]
    }
   ],
   "source": [
    "# usuwanie elementów z listy:\n",
    "lista.remove(3)\n",
    "print(\"lista:\", lista)"
   ]
  },
  {
   "cell_type": "code",
   "execution_count": 40,
   "metadata": {},
   "outputs": [
    {
     "name": "stdout",
     "output_type": "stream",
     "text": [
      "lista: [1, 2, 3, 4, 5, 6]\n"
     ]
    }
   ],
   "source": [
    "# wstawianie elementów do listy:\n",
    "lista.insert(2, 3)\n",
    "print(\"lista:\", lista)"
   ]
  },
  {
   "cell_type": "code",
   "execution_count": 44,
   "metadata": {},
   "outputs": [],
   "source": [
    "def przykład_wizualizacji_danych():\n",
    "    import matplotlib.pyplot as plt\n",
    "    import numpy as np\n",
    "\n",
    "    x = np.linspace(-10, 10, 100)\n",
    "    y = np.sin(x) * x * x\n",
    "\n",
    "    plt.plot(x, y)\n",
    "    plt.xlabel('oś X')\n",
    "    plt.ylabel('oś Y')\n",
    "    plt.title('przykładowy wykres')\n",
    "    plt.style.use('dark_background')\n",
    "    plt.show()"
   ]
  },
  {
   "attachments": {},
   "cell_type": "markdown",
   "metadata": {},
   "source": [
    "### Wizualizacje:\n",
    "Notebooki IPython umożliwiają generowanie wykresów i wizualizacji w tekście. Oto przykład użycia `matplotlib`:"
   ]
  },
  {
   "cell_type": "code",
   "execution_count": 45,
   "metadata": {},
   "outputs": [
    {
     "data": {
      "image/png": "[encoded data removed]",
      "text/plain": [
       "<Figure size 640x480 with 1 Axes>"
      ]
     },
     "metadata": {},
     "output_type": "display_data"
    }
   ],
   "source": [
    "przykład_wizualizacji_danych()"
   ]
  },
  {
   "attachments": {},
   "cell_type": "markdown",
   "metadata": {},
   "source": [
    "## Funkcje"
   ]
  },
  {
   "attachments": {},
   "cell_type": "markdown",
   "metadata": {},
   "source": []
  },
  {
   "cell_type": "code",
   "execution_count": null,
   "metadata": {},
   "outputs": [],
   "source": []
  },
  {
   "cell_type": "code",
   "execution_count": null,
   "metadata": {},
   "outputs": [],
   "source": []
  }
 ],
 "metadata": {
  "kernelspec": {
   "display_name": "Python 3",
   "language": "python",
   "name": "python3"
  },
  "language_info": {
   "codemirror_mode": {
    "name": "ipython",
    "version": 3
   },
   "file_extension": ".py",
   "mimetype": "text/x-python",
   "name": "python",
   "nbconvert_exporter": "python",
   "pygments_lexer": "ipython3",
   "version": "3.10.11"
  },
  "orig_nbformat": 4
 },
 "nbformat": 4,
 "nbformat_minor": 2
}
